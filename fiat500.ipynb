{
 "cells": [
  {
   "cell_type": "code",
   "execution_count": 1,
   "metadata": {},
   "outputs": [],
   "source": [
    "import pandas as pd\n",
    "import pickle"
   ]
  },
  {
   "cell_type": "code",
   "execution_count": 2,
   "metadata": {},
   "outputs": [],
   "source": [
    "data=pd.read_csv(r\"Downloads/fiat500.csv\")"
   ]
  },
  {
   "cell_type": "code",
   "execution_count": 3,
   "metadata": {},
   "outputs": [
    {
     "data": {
      "text/plain": [
       "Index(['ID', 'model', 'engine_power', 'age_in_days', 'km', 'previous_owners',\n",
       "       'lat', 'lon', 'price'],\n",
       "      dtype='object')"
      ]
     },
     "execution_count": 3,
     "metadata": {},
     "output_type": "execute_result"
    }
   ],
   "source": [
    "data.columns"
   ]
  },
  {
   "cell_type": "code",
   "execution_count": 4,
   "metadata": {},
   "outputs": [
    {
     "data": {
      "text/html": [
       "<div>\n",
       "<style scoped>\n",
       "    .dataframe tbody tr th:only-of-type {\n",
       "        vertical-align: middle;\n",
       "    }\n",
       "\n",
       "    .dataframe tbody tr th {\n",
       "        vertical-align: top;\n",
       "    }\n",
       "\n",
       "    .dataframe thead th {\n",
       "        text-align: right;\n",
       "    }\n",
       "</style>\n",
       "<table border=\"1\" class=\"dataframe\">\n",
       "  <thead>\n",
       "    <tr style=\"text-align: right;\">\n",
       "      <th></th>\n",
       "      <th>ID</th>\n",
       "      <th>model</th>\n",
       "      <th>engine_power</th>\n",
       "      <th>age_in_days</th>\n",
       "      <th>km</th>\n",
       "      <th>previous_owners</th>\n",
       "      <th>lat</th>\n",
       "      <th>lon</th>\n",
       "      <th>price</th>\n",
       "    </tr>\n",
       "  </thead>\n",
       "  <tbody>\n",
       "    <tr>\n",
       "      <th>0</th>\n",
       "      <td>1</td>\n",
       "      <td>lounge</td>\n",
       "      <td>51</td>\n",
       "      <td>882</td>\n",
       "      <td>25000</td>\n",
       "      <td>1</td>\n",
       "      <td>44.907242</td>\n",
       "      <td>8.611560</td>\n",
       "      <td>8900</td>\n",
       "    </tr>\n",
       "    <tr>\n",
       "      <th>1</th>\n",
       "      <td>2</td>\n",
       "      <td>pop</td>\n",
       "      <td>51</td>\n",
       "      <td>1186</td>\n",
       "      <td>32500</td>\n",
       "      <td>1</td>\n",
       "      <td>45.666359</td>\n",
       "      <td>12.241890</td>\n",
       "      <td>8800</td>\n",
       "    </tr>\n",
       "    <tr>\n",
       "      <th>2</th>\n",
       "      <td>3</td>\n",
       "      <td>sport</td>\n",
       "      <td>74</td>\n",
       "      <td>4658</td>\n",
       "      <td>142228</td>\n",
       "      <td>1</td>\n",
       "      <td>45.503300</td>\n",
       "      <td>11.417840</td>\n",
       "      <td>4200</td>\n",
       "    </tr>\n",
       "    <tr>\n",
       "      <th>3</th>\n",
       "      <td>4</td>\n",
       "      <td>lounge</td>\n",
       "      <td>51</td>\n",
       "      <td>2739</td>\n",
       "      <td>160000</td>\n",
       "      <td>1</td>\n",
       "      <td>40.633171</td>\n",
       "      <td>17.634609</td>\n",
       "      <td>6000</td>\n",
       "    </tr>\n",
       "    <tr>\n",
       "      <th>4</th>\n",
       "      <td>5</td>\n",
       "      <td>pop</td>\n",
       "      <td>73</td>\n",
       "      <td>3074</td>\n",
       "      <td>106880</td>\n",
       "      <td>1</td>\n",
       "      <td>41.903221</td>\n",
       "      <td>12.495650</td>\n",
       "      <td>5700</td>\n",
       "    </tr>\n",
       "    <tr>\n",
       "      <th>5</th>\n",
       "      <td>6</td>\n",
       "      <td>pop</td>\n",
       "      <td>74</td>\n",
       "      <td>3623</td>\n",
       "      <td>70225</td>\n",
       "      <td>1</td>\n",
       "      <td>45.000702</td>\n",
       "      <td>7.682270</td>\n",
       "      <td>7900</td>\n",
       "    </tr>\n",
       "    <tr>\n",
       "      <th>6</th>\n",
       "      <td>7</td>\n",
       "      <td>lounge</td>\n",
       "      <td>51</td>\n",
       "      <td>731</td>\n",
       "      <td>11600</td>\n",
       "      <td>1</td>\n",
       "      <td>44.907242</td>\n",
       "      <td>8.611560</td>\n",
       "      <td>10750</td>\n",
       "    </tr>\n",
       "    <tr>\n",
       "      <th>7</th>\n",
       "      <td>8</td>\n",
       "      <td>lounge</td>\n",
       "      <td>51</td>\n",
       "      <td>1521</td>\n",
       "      <td>49076</td>\n",
       "      <td>1</td>\n",
       "      <td>41.903221</td>\n",
       "      <td>12.495650</td>\n",
       "      <td>9190</td>\n",
       "    </tr>\n",
       "    <tr>\n",
       "      <th>8</th>\n",
       "      <td>9</td>\n",
       "      <td>sport</td>\n",
       "      <td>73</td>\n",
       "      <td>4049</td>\n",
       "      <td>76000</td>\n",
       "      <td>1</td>\n",
       "      <td>45.548000</td>\n",
       "      <td>11.549470</td>\n",
       "      <td>5600</td>\n",
       "    </tr>\n",
       "    <tr>\n",
       "      <th>9</th>\n",
       "      <td>10</td>\n",
       "      <td>sport</td>\n",
       "      <td>51</td>\n",
       "      <td>3653</td>\n",
       "      <td>89000</td>\n",
       "      <td>1</td>\n",
       "      <td>45.438301</td>\n",
       "      <td>10.991700</td>\n",
       "      <td>6000</td>\n",
       "    </tr>\n",
       "  </tbody>\n",
       "</table>\n",
       "</div>"
      ],
      "text/plain": [
       "   ID   model  engine_power  age_in_days      km  previous_owners        lat  \\\n",
       "0   1  lounge            51          882   25000                1  44.907242   \n",
       "1   2     pop            51         1186   32500                1  45.666359   \n",
       "2   3   sport            74         4658  142228                1  45.503300   \n",
       "3   4  lounge            51         2739  160000                1  40.633171   \n",
       "4   5     pop            73         3074  106880                1  41.903221   \n",
       "5   6     pop            74         3623   70225                1  45.000702   \n",
       "6   7  lounge            51          731   11600                1  44.907242   \n",
       "7   8  lounge            51         1521   49076                1  41.903221   \n",
       "8   9   sport            73         4049   76000                1  45.548000   \n",
       "9  10   sport            51         3653   89000                1  45.438301   \n",
       "\n",
       "         lon  price  \n",
       "0   8.611560   8900  \n",
       "1  12.241890   8800  \n",
       "2  11.417840   4200  \n",
       "3  17.634609   6000  \n",
       "4  12.495650   5700  \n",
       "5   7.682270   7900  \n",
       "6   8.611560  10750  \n",
       "7  12.495650   9190  \n",
       "8  11.549470   5600  \n",
       "9  10.991700   6000  "
      ]
     },
     "execution_count": 4,
     "metadata": {},
     "output_type": "execute_result"
    }
   ],
   "source": [
    "data.head(10)"
   ]
  },
  {
   "cell_type": "code",
   "execution_count": 5,
   "metadata": {},
   "outputs": [
    {
     "data": {
      "text/plain": [
       "(1538, 9)"
      ]
     },
     "execution_count": 5,
     "metadata": {},
     "output_type": "execute_result"
    }
   ],
   "source": [
    "data.shape"
   ]
  },
  {
   "cell_type": "code",
   "execution_count": 6,
   "metadata": {},
   "outputs": [
    {
     "name": "stdout",
     "output_type": "stream",
     "text": [
      "<class 'pandas.core.frame.DataFrame'>\n",
      "RangeIndex: 1538 entries, 0 to 1537\n",
      "Data columns (total 9 columns):\n",
      "ID                 1538 non-null int64\n",
      "model              1538 non-null object\n",
      "engine_power       1538 non-null int64\n",
      "age_in_days        1538 non-null int64\n",
      "km                 1538 non-null int64\n",
      "previous_owners    1538 non-null int64\n",
      "lat                1538 non-null float64\n",
      "lon                1538 non-null float64\n",
      "price              1538 non-null int64\n",
      "dtypes: float64(2), int64(6), object(1)\n",
      "memory usage: 108.2+ KB\n"
     ]
    }
   ],
   "source": [
    "data.info()"
   ]
  },
  {
   "cell_type": "code",
   "execution_count": 7,
   "metadata": {},
   "outputs": [
    {
     "data": {
      "text/html": [
       "<div>\n",
       "<style scoped>\n",
       "    .dataframe tbody tr th:only-of-type {\n",
       "        vertical-align: middle;\n",
       "    }\n",
       "\n",
       "    .dataframe tbody tr th {\n",
       "        vertical-align: top;\n",
       "    }\n",
       "\n",
       "    .dataframe thead th {\n",
       "        text-align: right;\n",
       "    }\n",
       "</style>\n",
       "<table border=\"1\" class=\"dataframe\">\n",
       "  <thead>\n",
       "    <tr style=\"text-align: right;\">\n",
       "      <th></th>\n",
       "      <th>ID</th>\n",
       "      <th>engine_power</th>\n",
       "      <th>age_in_days</th>\n",
       "      <th>km</th>\n",
       "      <th>previous_owners</th>\n",
       "      <th>lat</th>\n",
       "      <th>lon</th>\n",
       "      <th>price</th>\n",
       "    </tr>\n",
       "  </thead>\n",
       "  <tbody>\n",
       "    <tr>\n",
       "      <th>count</th>\n",
       "      <td>1538.000000</td>\n",
       "      <td>1538.000000</td>\n",
       "      <td>1538.000000</td>\n",
       "      <td>1538.000000</td>\n",
       "      <td>1538.000000</td>\n",
       "      <td>1538.000000</td>\n",
       "      <td>1538.000000</td>\n",
       "      <td>1538.000000</td>\n",
       "    </tr>\n",
       "    <tr>\n",
       "      <th>mean</th>\n",
       "      <td>769.500000</td>\n",
       "      <td>51.904421</td>\n",
       "      <td>1650.980494</td>\n",
       "      <td>53396.011704</td>\n",
       "      <td>1.123537</td>\n",
       "      <td>43.541361</td>\n",
       "      <td>11.563428</td>\n",
       "      <td>8576.003901</td>\n",
       "    </tr>\n",
       "    <tr>\n",
       "      <th>std</th>\n",
       "      <td>444.126671</td>\n",
       "      <td>3.988023</td>\n",
       "      <td>1289.522278</td>\n",
       "      <td>40046.830723</td>\n",
       "      <td>0.416423</td>\n",
       "      <td>2.133518</td>\n",
       "      <td>2.328190</td>\n",
       "      <td>1939.958641</td>\n",
       "    </tr>\n",
       "    <tr>\n",
       "      <th>min</th>\n",
       "      <td>1.000000</td>\n",
       "      <td>51.000000</td>\n",
       "      <td>366.000000</td>\n",
       "      <td>1232.000000</td>\n",
       "      <td>1.000000</td>\n",
       "      <td>36.855839</td>\n",
       "      <td>7.245400</td>\n",
       "      <td>2500.000000</td>\n",
       "    </tr>\n",
       "    <tr>\n",
       "      <th>25%</th>\n",
       "      <td>385.250000</td>\n",
       "      <td>51.000000</td>\n",
       "      <td>670.000000</td>\n",
       "      <td>20006.250000</td>\n",
       "      <td>1.000000</td>\n",
       "      <td>41.802990</td>\n",
       "      <td>9.505090</td>\n",
       "      <td>7122.500000</td>\n",
       "    </tr>\n",
       "    <tr>\n",
       "      <th>50%</th>\n",
       "      <td>769.500000</td>\n",
       "      <td>51.000000</td>\n",
       "      <td>1035.000000</td>\n",
       "      <td>39031.000000</td>\n",
       "      <td>1.000000</td>\n",
       "      <td>44.394096</td>\n",
       "      <td>11.869260</td>\n",
       "      <td>9000.000000</td>\n",
       "    </tr>\n",
       "    <tr>\n",
       "      <th>75%</th>\n",
       "      <td>1153.750000</td>\n",
       "      <td>51.000000</td>\n",
       "      <td>2616.000000</td>\n",
       "      <td>79667.750000</td>\n",
       "      <td>1.000000</td>\n",
       "      <td>45.467960</td>\n",
       "      <td>12.769040</td>\n",
       "      <td>10000.000000</td>\n",
       "    </tr>\n",
       "    <tr>\n",
       "      <th>max</th>\n",
       "      <td>1538.000000</td>\n",
       "      <td>77.000000</td>\n",
       "      <td>4658.000000</td>\n",
       "      <td>235000.000000</td>\n",
       "      <td>4.000000</td>\n",
       "      <td>46.795612</td>\n",
       "      <td>18.365520</td>\n",
       "      <td>11100.000000</td>\n",
       "    </tr>\n",
       "  </tbody>\n",
       "</table>\n",
       "</div>"
      ],
      "text/plain": [
       "                ID  engine_power  age_in_days             km  previous_owners  \\\n",
       "count  1538.000000   1538.000000  1538.000000    1538.000000      1538.000000   \n",
       "mean    769.500000     51.904421  1650.980494   53396.011704         1.123537   \n",
       "std     444.126671      3.988023  1289.522278   40046.830723         0.416423   \n",
       "min       1.000000     51.000000   366.000000    1232.000000         1.000000   \n",
       "25%     385.250000     51.000000   670.000000   20006.250000         1.000000   \n",
       "50%     769.500000     51.000000  1035.000000   39031.000000         1.000000   \n",
       "75%    1153.750000     51.000000  2616.000000   79667.750000         1.000000   \n",
       "max    1538.000000     77.000000  4658.000000  235000.000000         4.000000   \n",
       "\n",
       "               lat          lon         price  \n",
       "count  1538.000000  1538.000000   1538.000000  \n",
       "mean     43.541361    11.563428   8576.003901  \n",
       "std       2.133518     2.328190   1939.958641  \n",
       "min      36.855839     7.245400   2500.000000  \n",
       "25%      41.802990     9.505090   7122.500000  \n",
       "50%      44.394096    11.869260   9000.000000  \n",
       "75%      45.467960    12.769040  10000.000000  \n",
       "max      46.795612    18.365520  11100.000000  "
      ]
     },
     "execution_count": 7,
     "metadata": {},
     "output_type": "execute_result"
    }
   ],
   "source": [
    "#data statistics\n",
    "data.describe()"
   ]
  },
  {
   "cell_type": "code",
   "execution_count": 8,
   "metadata": {},
   "outputs": [
    {
     "data": {
      "text/plain": [
       "ID                 0\n",
       "model              0\n",
       "engine_power       0\n",
       "age_in_days        0\n",
       "km                 0\n",
       "previous_owners    0\n",
       "lat                0\n",
       "lon                0\n",
       "price              0\n",
       "dtype: int64"
      ]
     },
     "execution_count": 8,
     "metadata": {},
     "output_type": "execute_result"
    }
   ],
   "source": [
    "#checking NULL values\n",
    "data.isnull().sum()"
   ]
  },
  {
   "cell_type": "code",
   "execution_count": 9,
   "metadata": {},
   "outputs": [
    {
     "data": {
      "text/plain": [
       "(1538, 9)"
      ]
     },
     "execution_count": 9,
     "metadata": {},
     "output_type": "execute_result"
    }
   ],
   "source": [
    "data.shape"
   ]
  },
  {
   "cell_type": "code",
   "execution_count": 10,
   "metadata": {},
   "outputs": [
    {
     "data": {
      "text/plain": [
       "array(['lounge', 'pop', 'sport'], dtype=object)"
      ]
     },
     "execution_count": 10,
     "metadata": {},
     "output_type": "execute_result"
    }
   ],
   "source": [
    "data['model'].unique()"
   ]
  },
  {
   "cell_type": "code",
   "execution_count": 11,
   "metadata": {},
   "outputs": [
    {
     "data": {
      "text/plain": [
       "array([51, 74, 73, 62, 63, 66, 77, 58], dtype=int64)"
      ]
     },
     "execution_count": 11,
     "metadata": {},
     "output_type": "execute_result"
    }
   ],
   "source": [
    "data['engine_power'].unique()"
   ]
  },
  {
   "cell_type": "code",
   "execution_count": 12,
   "metadata": {},
   "outputs": [
    {
     "data": {
      "text/plain": [
       "array([1, 2, 3, 4], dtype=int64)"
      ]
     },
     "execution_count": 12,
     "metadata": {},
     "output_type": "execute_result"
    }
   ],
   "source": [
    "data['previous_owners'].unique()"
   ]
  },
  {
   "cell_type": "code",
   "execution_count": 13,
   "metadata": {},
   "outputs": [
    {
     "data": {
      "text/html": [
       "<div>\n",
       "<style scoped>\n",
       "    .dataframe tbody tr th:only-of-type {\n",
       "        vertical-align: middle;\n",
       "    }\n",
       "\n",
       "    .dataframe tbody tr th {\n",
       "        vertical-align: top;\n",
       "    }\n",
       "\n",
       "    .dataframe thead th {\n",
       "        text-align: right;\n",
       "    }\n",
       "</style>\n",
       "<table border=\"1\" class=\"dataframe\">\n",
       "  <thead>\n",
       "    <tr style=\"text-align: right;\">\n",
       "      <th></th>\n",
       "      <th>ID</th>\n",
       "      <th>engine_power</th>\n",
       "      <th>age_in_days</th>\n",
       "      <th>km</th>\n",
       "      <th>previous_owners</th>\n",
       "      <th>lat</th>\n",
       "      <th>lon</th>\n",
       "      <th>price</th>\n",
       "    </tr>\n",
       "    <tr>\n",
       "      <th>model</th>\n",
       "      <th></th>\n",
       "      <th></th>\n",
       "      <th></th>\n",
       "      <th></th>\n",
       "      <th></th>\n",
       "      <th></th>\n",
       "      <th></th>\n",
       "      <th></th>\n",
       "    </tr>\n",
       "  </thead>\n",
       "  <tbody>\n",
       "    <tr>\n",
       "      <th>lounge</th>\n",
       "      <td>1094</td>\n",
       "      <td>1094</td>\n",
       "      <td>1094</td>\n",
       "      <td>1094</td>\n",
       "      <td>1094</td>\n",
       "      <td>1094</td>\n",
       "      <td>1094</td>\n",
       "      <td>1094</td>\n",
       "    </tr>\n",
       "    <tr>\n",
       "      <th>pop</th>\n",
       "      <td>358</td>\n",
       "      <td>358</td>\n",
       "      <td>358</td>\n",
       "      <td>358</td>\n",
       "      <td>358</td>\n",
       "      <td>358</td>\n",
       "      <td>358</td>\n",
       "      <td>358</td>\n",
       "    </tr>\n",
       "    <tr>\n",
       "      <th>sport</th>\n",
       "      <td>86</td>\n",
       "      <td>86</td>\n",
       "      <td>86</td>\n",
       "      <td>86</td>\n",
       "      <td>86</td>\n",
       "      <td>86</td>\n",
       "      <td>86</td>\n",
       "      <td>86</td>\n",
       "    </tr>\n",
       "  </tbody>\n",
       "</table>\n",
       "</div>"
      ],
      "text/plain": [
       "          ID  engine_power  age_in_days    km  previous_owners   lat   lon  \\\n",
       "model                                                                        \n",
       "lounge  1094          1094         1094  1094             1094  1094  1094   \n",
       "pop      358           358          358   358              358   358   358   \n",
       "sport     86            86           86    86               86    86    86   \n",
       "\n",
       "        price  \n",
       "model          \n",
       "lounge   1094  \n",
       "pop       358  \n",
       "sport      86  "
      ]
     },
     "execution_count": 13,
     "metadata": {},
     "output_type": "execute_result"
    }
   ],
   "source": [
    "#Data cleaning method\n",
    "data.groupby('model').count()"
   ]
  },
  {
   "cell_type": "code",
   "execution_count": 14,
   "metadata": {},
   "outputs": [
    {
     "data": {
      "text/html": [
       "<div>\n",
       "<style scoped>\n",
       "    .dataframe tbody tr th:only-of-type {\n",
       "        vertical-align: middle;\n",
       "    }\n",
       "\n",
       "    .dataframe tbody tr th {\n",
       "        vertical-align: top;\n",
       "    }\n",
       "\n",
       "    .dataframe thead th {\n",
       "        text-align: right;\n",
       "    }\n",
       "</style>\n",
       "<table border=\"1\" class=\"dataframe\">\n",
       "  <thead>\n",
       "    <tr style=\"text-align: right;\">\n",
       "      <th></th>\n",
       "      <th>ID</th>\n",
       "      <th>model</th>\n",
       "      <th>engine_power</th>\n",
       "      <th>age_in_days</th>\n",
       "      <th>km</th>\n",
       "      <th>lat</th>\n",
       "      <th>lon</th>\n",
       "      <th>price</th>\n",
       "    </tr>\n",
       "    <tr>\n",
       "      <th>previous_owners</th>\n",
       "      <th></th>\n",
       "      <th></th>\n",
       "      <th></th>\n",
       "      <th></th>\n",
       "      <th></th>\n",
       "      <th></th>\n",
       "      <th></th>\n",
       "      <th></th>\n",
       "    </tr>\n",
       "  </thead>\n",
       "  <tbody>\n",
       "    <tr>\n",
       "      <th>1</th>\n",
       "      <td>1389</td>\n",
       "      <td>1389</td>\n",
       "      <td>1389</td>\n",
       "      <td>1389</td>\n",
       "      <td>1389</td>\n",
       "      <td>1389</td>\n",
       "      <td>1389</td>\n",
       "      <td>1389</td>\n",
       "    </tr>\n",
       "    <tr>\n",
       "      <th>2</th>\n",
       "      <td>117</td>\n",
       "      <td>117</td>\n",
       "      <td>117</td>\n",
       "      <td>117</td>\n",
       "      <td>117</td>\n",
       "      <td>117</td>\n",
       "      <td>117</td>\n",
       "      <td>117</td>\n",
       "    </tr>\n",
       "    <tr>\n",
       "      <th>3</th>\n",
       "      <td>23</td>\n",
       "      <td>23</td>\n",
       "      <td>23</td>\n",
       "      <td>23</td>\n",
       "      <td>23</td>\n",
       "      <td>23</td>\n",
       "      <td>23</td>\n",
       "      <td>23</td>\n",
       "    </tr>\n",
       "    <tr>\n",
       "      <th>4</th>\n",
       "      <td>9</td>\n",
       "      <td>9</td>\n",
       "      <td>9</td>\n",
       "      <td>9</td>\n",
       "      <td>9</td>\n",
       "      <td>9</td>\n",
       "      <td>9</td>\n",
       "      <td>9</td>\n",
       "    </tr>\n",
       "  </tbody>\n",
       "</table>\n",
       "</div>"
      ],
      "text/plain": [
       "                   ID  model  engine_power  age_in_days    km   lat   lon  \\\n",
       "previous_owners                                                             \n",
       "1                1389   1389          1389         1389  1389  1389  1389   \n",
       "2                 117    117           117          117   117   117   117   \n",
       "3                  23     23            23           23    23    23    23   \n",
       "4                   9      9             9            9     9     9     9   \n",
       "\n",
       "                 price  \n",
       "previous_owners         \n",
       "1                 1389  \n",
       "2                  117  \n",
       "3                   23  \n",
       "4                    9  "
      ]
     },
     "execution_count": 14,
     "metadata": {},
     "output_type": "execute_result"
    }
   ],
   "source": [
    "data.groupby('previous_owners').count()"
   ]
  },
  {
   "cell_type": "code",
   "execution_count": 15,
   "metadata": {},
   "outputs": [],
   "source": [
    "import seaborn as sns"
   ]
  },
  {
   "cell_type": "code",
   "execution_count": 16,
   "metadata": {},
   "outputs": [
    {
     "data": {
      "text/html": [
       "<div>\n",
       "<style scoped>\n",
       "    .dataframe tbody tr th:only-of-type {\n",
       "        vertical-align: middle;\n",
       "    }\n",
       "\n",
       "    .dataframe tbody tr th {\n",
       "        vertical-align: top;\n",
       "    }\n",
       "\n",
       "    .dataframe thead th {\n",
       "        text-align: right;\n",
       "    }\n",
       "</style>\n",
       "<table border=\"1\" class=\"dataframe\">\n",
       "  <thead>\n",
       "    <tr style=\"text-align: right;\">\n",
       "      <th></th>\n",
       "      <th>ID</th>\n",
       "      <th>engine_power</th>\n",
       "      <th>age_in_days</th>\n",
       "      <th>km</th>\n",
       "      <th>previous_owners</th>\n",
       "      <th>lat</th>\n",
       "      <th>lon</th>\n",
       "      <th>price</th>\n",
       "    </tr>\n",
       "  </thead>\n",
       "  <tbody>\n",
       "    <tr>\n",
       "      <th>ID</th>\n",
       "      <td>1.000000</td>\n",
       "      <td>-0.034059</td>\n",
       "      <td>-0.060753</td>\n",
       "      <td>-0.006537</td>\n",
       "      <td>0.007803</td>\n",
       "      <td>-0.058207</td>\n",
       "      <td>0.058941</td>\n",
       "      <td>0.028516</td>\n",
       "    </tr>\n",
       "    <tr>\n",
       "      <th>engine_power</th>\n",
       "      <td>-0.034059</td>\n",
       "      <td>1.000000</td>\n",
       "      <td>0.319190</td>\n",
       "      <td>0.285495</td>\n",
       "      <td>-0.005030</td>\n",
       "      <td>0.005721</td>\n",
       "      <td>-0.005032</td>\n",
       "      <td>-0.277235</td>\n",
       "    </tr>\n",
       "    <tr>\n",
       "      <th>age_in_days</th>\n",
       "      <td>-0.060753</td>\n",
       "      <td>0.319190</td>\n",
       "      <td>1.000000</td>\n",
       "      <td>0.833890</td>\n",
       "      <td>0.075775</td>\n",
       "      <td>0.062982</td>\n",
       "      <td>-0.042667</td>\n",
       "      <td>-0.893328</td>\n",
       "    </tr>\n",
       "    <tr>\n",
       "      <th>km</th>\n",
       "      <td>-0.006537</td>\n",
       "      <td>0.285495</td>\n",
       "      <td>0.833890</td>\n",
       "      <td>1.000000</td>\n",
       "      <td>0.097539</td>\n",
       "      <td>0.035519</td>\n",
       "      <td>0.004839</td>\n",
       "      <td>-0.859373</td>\n",
       "    </tr>\n",
       "    <tr>\n",
       "      <th>previous_owners</th>\n",
       "      <td>0.007803</td>\n",
       "      <td>-0.005030</td>\n",
       "      <td>0.075775</td>\n",
       "      <td>0.097539</td>\n",
       "      <td>1.000000</td>\n",
       "      <td>0.001697</td>\n",
       "      <td>-0.026836</td>\n",
       "      <td>-0.076274</td>\n",
       "    </tr>\n",
       "    <tr>\n",
       "      <th>lat</th>\n",
       "      <td>-0.058207</td>\n",
       "      <td>0.005721</td>\n",
       "      <td>0.062982</td>\n",
       "      <td>0.035519</td>\n",
       "      <td>0.001697</td>\n",
       "      <td>1.000000</td>\n",
       "      <td>-0.766646</td>\n",
       "      <td>-0.011733</td>\n",
       "    </tr>\n",
       "    <tr>\n",
       "      <th>lon</th>\n",
       "      <td>0.058941</td>\n",
       "      <td>-0.005032</td>\n",
       "      <td>-0.042667</td>\n",
       "      <td>0.004839</td>\n",
       "      <td>-0.026836</td>\n",
       "      <td>-0.766646</td>\n",
       "      <td>1.000000</td>\n",
       "      <td>-0.003541</td>\n",
       "    </tr>\n",
       "    <tr>\n",
       "      <th>price</th>\n",
       "      <td>0.028516</td>\n",
       "      <td>-0.277235</td>\n",
       "      <td>-0.893328</td>\n",
       "      <td>-0.859373</td>\n",
       "      <td>-0.076274</td>\n",
       "      <td>-0.011733</td>\n",
       "      <td>-0.003541</td>\n",
       "      <td>1.000000</td>\n",
       "    </tr>\n",
       "  </tbody>\n",
       "</table>\n",
       "</div>"
      ],
      "text/plain": [
       "                       ID  engine_power  age_in_days        km  \\\n",
       "ID               1.000000     -0.034059    -0.060753 -0.006537   \n",
       "engine_power    -0.034059      1.000000     0.319190  0.285495   \n",
       "age_in_days     -0.060753      0.319190     1.000000  0.833890   \n",
       "km              -0.006537      0.285495     0.833890  1.000000   \n",
       "previous_owners  0.007803     -0.005030     0.075775  0.097539   \n",
       "lat             -0.058207      0.005721     0.062982  0.035519   \n",
       "lon              0.058941     -0.005032    -0.042667  0.004839   \n",
       "price            0.028516     -0.277235    -0.893328 -0.859373   \n",
       "\n",
       "                 previous_owners       lat       lon     price  \n",
       "ID                      0.007803 -0.058207  0.058941  0.028516  \n",
       "engine_power           -0.005030  0.005721 -0.005032 -0.277235  \n",
       "age_in_days             0.075775  0.062982 -0.042667 -0.893328  \n",
       "km                      0.097539  0.035519  0.004839 -0.859373  \n",
       "previous_owners         1.000000  0.001697 -0.026836 -0.076274  \n",
       "lat                     0.001697  1.000000 -0.766646 -0.011733  \n",
       "lon                    -0.026836 -0.766646  1.000000 -0.003541  \n",
       "price                  -0.076274 -0.011733 -0.003541  1.000000  "
      ]
     },
     "execution_count": 16,
     "metadata": {},
     "output_type": "execute_result"
    }
   ],
   "source": [
    "data.corr()"
   ]
  },
  {
   "cell_type": "code",
   "execution_count": 17,
   "metadata": {},
   "outputs": [
    {
     "data": {
      "text/plain": [
       "<matplotlib.axes._subplots.AxesSubplot at 0x296e08dc978>"
      ]
     },
     "execution_count": 17,
     "metadata": {},
     "output_type": "execute_result"
    },
    {
     "data": {
      "image/png": "[encoded data removed]",
      "text/plain": [
       "<Figure size 432x288 with 2 Axes>"
      ]
     },
     "metadata": {
      "needs_background": "light"
     },
     "output_type": "display_data"
    }
   ],
   "source": [
    "sns.heatmap(data.corr(),vmax=1,vmin=-1,annot=True,linewidth=5,cmap='bwr')"
   ]
  },
  {
   "cell_type": "code",
   "execution_count": 18,
   "metadata": {},
   "outputs": [],
   "source": [
    "x=data.drop('ID', axis=1)"
   ]
  },
  {
   "cell_type": "code",
   "execution_count": 19,
   "metadata": {},
   "outputs": [
    {
     "data": {
      "text/html": [
       "<div>\n",
       "<style scoped>\n",
       "    .dataframe tbody tr th:only-of-type {\n",
       "        vertical-align: middle;\n",
       "    }\n",
       "\n",
       "    .dataframe tbody tr th {\n",
       "        vertical-align: top;\n",
       "    }\n",
       "\n",
       "    .dataframe thead th {\n",
       "        text-align: right;\n",
       "    }\n",
       "</style>\n",
       "<table border=\"1\" class=\"dataframe\">\n",
       "  <thead>\n",
       "    <tr style=\"text-align: right;\">\n",
       "      <th></th>\n",
       "      <th>model</th>\n",
       "      <th>engine_power</th>\n",
       "      <th>age_in_days</th>\n",
       "      <th>km</th>\n",
       "      <th>previous_owners</th>\n",
       "      <th>lat</th>\n",
       "      <th>lon</th>\n",
       "      <th>price</th>\n",
       "    </tr>\n",
       "  </thead>\n",
       "  <tbody>\n",
       "    <tr>\n",
       "      <th>0</th>\n",
       "      <td>lounge</td>\n",
       "      <td>51</td>\n",
       "      <td>882</td>\n",
       "      <td>25000</td>\n",
       "      <td>1</td>\n",
       "      <td>44.907242</td>\n",
       "      <td>8.611560</td>\n",
       "      <td>8900</td>\n",
       "    </tr>\n",
       "    <tr>\n",
       "      <th>1</th>\n",
       "      <td>pop</td>\n",
       "      <td>51</td>\n",
       "      <td>1186</td>\n",
       "      <td>32500</td>\n",
       "      <td>1</td>\n",
       "      <td>45.666359</td>\n",
       "      <td>12.241890</td>\n",
       "      <td>8800</td>\n",
       "    </tr>\n",
       "    <tr>\n",
       "      <th>2</th>\n",
       "      <td>sport</td>\n",
       "      <td>74</td>\n",
       "      <td>4658</td>\n",
       "      <td>142228</td>\n",
       "      <td>1</td>\n",
       "      <td>45.503300</td>\n",
       "      <td>11.417840</td>\n",
       "      <td>4200</td>\n",
       "    </tr>\n",
       "    <tr>\n",
       "      <th>3</th>\n",
       "      <td>lounge</td>\n",
       "      <td>51</td>\n",
       "      <td>2739</td>\n",
       "      <td>160000</td>\n",
       "      <td>1</td>\n",
       "      <td>40.633171</td>\n",
       "      <td>17.634609</td>\n",
       "      <td>6000</td>\n",
       "    </tr>\n",
       "    <tr>\n",
       "      <th>4</th>\n",
       "      <td>pop</td>\n",
       "      <td>73</td>\n",
       "      <td>3074</td>\n",
       "      <td>106880</td>\n",
       "      <td>1</td>\n",
       "      <td>41.903221</td>\n",
       "      <td>12.495650</td>\n",
       "      <td>5700</td>\n",
       "    </tr>\n",
       "  </tbody>\n",
       "</table>\n",
       "</div>"
      ],
      "text/plain": [
       "    model  engine_power  age_in_days      km  previous_owners        lat  \\\n",
       "0  lounge            51          882   25000                1  44.907242   \n",
       "1     pop            51         1186   32500                1  45.666359   \n",
       "2   sport            74         4658  142228                1  45.503300   \n",
       "3  lounge            51         2739  160000                1  40.633171   \n",
       "4     pop            73         3074  106880                1  41.903221   \n",
       "\n",
       "         lon  price  \n",
       "0   8.611560   8900  \n",
       "1  12.241890   8800  \n",
       "2  11.417840   4200  \n",
       "3  17.634609   6000  \n",
       "4  12.495650   5700  "
      ]
     },
     "execution_count": 19,
     "metadata": {},
     "output_type": "execute_result"
    }
   ],
   "source": [
    "x.head(5)"
   ]
  },
  {
   "cell_type": "code",
   "execution_count": 20,
   "metadata": {},
   "outputs": [],
   "source": [
    "data2=x.drop(['lat','lon'],axis=1)"
   ]
  },
  {
   "cell_type": "code",
   "execution_count": 21,
   "metadata": {},
   "outputs": [
    {
     "data": {
      "text/html": [
       "<div>\n",
       "<style scoped>\n",
       "    .dataframe tbody tr th:only-of-type {\n",
       "        vertical-align: middle;\n",
       "    }\n",
       "\n",
       "    .dataframe tbody tr th {\n",
       "        vertical-align: top;\n",
       "    }\n",
       "\n",
       "    .dataframe thead th {\n",
       "        text-align: right;\n",
       "    }\n",
       "</style>\n",
       "<table border=\"1\" class=\"dataframe\">\n",
       "  <thead>\n",
       "    <tr style=\"text-align: right;\">\n",
       "      <th></th>\n",
       "      <th>model</th>\n",
       "      <th>engine_power</th>\n",
       "      <th>age_in_days</th>\n",
       "      <th>km</th>\n",
       "      <th>previous_owners</th>\n",
       "      <th>price</th>\n",
       "    </tr>\n",
       "  </thead>\n",
       "  <tbody>\n",
       "    <tr>\n",
       "      <th>0</th>\n",
       "      <td>lounge</td>\n",
       "      <td>51</td>\n",
       "      <td>882</td>\n",
       "      <td>25000</td>\n",
       "      <td>1</td>\n",
       "      <td>8900</td>\n",
       "    </tr>\n",
       "    <tr>\n",
       "      <th>1</th>\n",
       "      <td>pop</td>\n",
       "      <td>51</td>\n",
       "      <td>1186</td>\n",
       "      <td>32500</td>\n",
       "      <td>1</td>\n",
       "      <td>8800</td>\n",
       "    </tr>\n",
       "    <tr>\n",
       "      <th>2</th>\n",
       "      <td>sport</td>\n",
       "      <td>74</td>\n",
       "      <td>4658</td>\n",
       "      <td>142228</td>\n",
       "      <td>1</td>\n",
       "      <td>4200</td>\n",
       "    </tr>\n",
       "    <tr>\n",
       "      <th>3</th>\n",
       "      <td>lounge</td>\n",
       "      <td>51</td>\n",
       "      <td>2739</td>\n",
       "      <td>160000</td>\n",
       "      <td>1</td>\n",
       "      <td>6000</td>\n",
       "    </tr>\n",
       "    <tr>\n",
       "      <th>4</th>\n",
       "      <td>pop</td>\n",
       "      <td>73</td>\n",
       "      <td>3074</td>\n",
       "      <td>106880</td>\n",
       "      <td>1</td>\n",
       "      <td>5700</td>\n",
       "    </tr>\n",
       "  </tbody>\n",
       "</table>\n",
       "</div>"
      ],
      "text/plain": [
       "    model  engine_power  age_in_days      km  previous_owners  price\n",
       "0  lounge            51          882   25000                1   8900\n",
       "1     pop            51         1186   32500                1   8800\n",
       "2   sport            74         4658  142228                1   4200\n",
       "3  lounge            51         2739  160000                1   6000\n",
       "4     pop            73         3074  106880                1   5700"
      ]
     },
     "execution_count": 21,
     "metadata": {},
     "output_type": "execute_result"
    }
   ],
   "source": [
    "data2.head(5)"
   ]
  },
  {
   "cell_type": "code",
   "execution_count": 22,
   "metadata": {},
   "outputs": [
    {
     "data": {
      "text/plain": [
       "(1538, 6)"
      ]
     },
     "execution_count": 22,
     "metadata": {},
     "output_type": "execute_result"
    }
   ],
   "source": [
    "data2.shape"
   ]
  },
  {
   "cell_type": "code",
   "execution_count": 23,
   "metadata": {},
   "outputs": [],
   "source": [
    "data3=pd.get_dummies(data2)"
   ]
  },
  {
   "cell_type": "code",
   "execution_count": 24,
   "metadata": {},
   "outputs": [
    {
     "data": {
      "text/html": [
       "<div>\n",
       "<style scoped>\n",
       "    .dataframe tbody tr th:only-of-type {\n",
       "        vertical-align: middle;\n",
       "    }\n",
       "\n",
       "    .dataframe tbody tr th {\n",
       "        vertical-align: top;\n",
       "    }\n",
       "\n",
       "    .dataframe thead th {\n",
       "        text-align: right;\n",
       "    }\n",
       "</style>\n",
       "<table border=\"1\" class=\"dataframe\">\n",
       "  <thead>\n",
       "    <tr style=\"text-align: right;\">\n",
       "      <th></th>\n",
       "      <th>engine_power</th>\n",
       "      <th>age_in_days</th>\n",
       "      <th>km</th>\n",
       "      <th>previous_owners</th>\n",
       "      <th>price</th>\n",
       "      <th>model_lounge</th>\n",
       "      <th>model_pop</th>\n",
       "      <th>model_sport</th>\n",
       "    </tr>\n",
       "  </thead>\n",
       "  <tbody>\n",
       "    <tr>\n",
       "      <th>0</th>\n",
       "      <td>51</td>\n",
       "      <td>882</td>\n",
       "      <td>25000</td>\n",
       "      <td>1</td>\n",
       "      <td>8900</td>\n",
       "      <td>1</td>\n",
       "      <td>0</td>\n",
       "      <td>0</td>\n",
       "    </tr>\n",
       "    <tr>\n",
       "      <th>1</th>\n",
       "      <td>51</td>\n",
       "      <td>1186</td>\n",
       "      <td>32500</td>\n",
       "      <td>1</td>\n",
       "      <td>8800</td>\n",
       "      <td>0</td>\n",
       "      <td>1</td>\n",
       "      <td>0</td>\n",
       "    </tr>\n",
       "    <tr>\n",
       "      <th>2</th>\n",
       "      <td>74</td>\n",
       "      <td>4658</td>\n",
       "      <td>142228</td>\n",
       "      <td>1</td>\n",
       "      <td>4200</td>\n",
       "      <td>0</td>\n",
       "      <td>0</td>\n",
       "      <td>1</td>\n",
       "    </tr>\n",
       "    <tr>\n",
       "      <th>3</th>\n",
       "      <td>51</td>\n",
       "      <td>2739</td>\n",
       "      <td>160000</td>\n",
       "      <td>1</td>\n",
       "      <td>6000</td>\n",
       "      <td>1</td>\n",
       "      <td>0</td>\n",
       "      <td>0</td>\n",
       "    </tr>\n",
       "  </tbody>\n",
       "</table>\n",
       "</div>"
      ],
      "text/plain": [
       "   engine_power  age_in_days      km  previous_owners  price  model_lounge  \\\n",
       "0            51          882   25000                1   8900             1   \n",
       "1            51         1186   32500                1   8800             0   \n",
       "2            74         4658  142228                1   4200             0   \n",
       "3            51         2739  160000                1   6000             1   \n",
       "\n",
       "   model_pop  model_sport  \n",
       "0          0            0  \n",
       "1          1            0  \n",
       "2          0            1  \n",
       "3          0            0  "
      ]
     },
     "execution_count": 24,
     "metadata": {},
     "output_type": "execute_result"
    }
   ],
   "source": [
    "data3.head(4)"
   ]
  },
  {
   "cell_type": "code",
   "execution_count": 25,
   "metadata": {},
   "outputs": [],
   "source": [
    "y=data3['price']\n",
    "x=data3.drop('price',axis=1)"
   ]
  },
  {
   "cell_type": "code",
   "execution_count": 26,
   "metadata": {},
   "outputs": [
    {
     "data": {
      "text/html": [
       "<div>\n",
       "<style scoped>\n",
       "    .dataframe tbody tr th:only-of-type {\n",
       "        vertical-align: middle;\n",
       "    }\n",
       "\n",
       "    .dataframe tbody tr th {\n",
       "        vertical-align: top;\n",
       "    }\n",
       "\n",
       "    .dataframe thead th {\n",
       "        text-align: right;\n",
       "    }\n",
       "</style>\n",
       "<table border=\"1\" class=\"dataframe\">\n",
       "  <thead>\n",
       "    <tr style=\"text-align: right;\">\n",
       "      <th></th>\n",
       "      <th>engine_power</th>\n",
       "      <th>age_in_days</th>\n",
       "      <th>km</th>\n",
       "      <th>previous_owners</th>\n",
       "      <th>model_lounge</th>\n",
       "      <th>model_pop</th>\n",
       "      <th>model_sport</th>\n",
       "    </tr>\n",
       "  </thead>\n",
       "  <tbody>\n",
       "    <tr>\n",
       "      <th>engine_power</th>\n",
       "      <td>1.000000</td>\n",
       "      <td>0.319190</td>\n",
       "      <td>0.285495</td>\n",
       "      <td>-0.005030</td>\n",
       "      <td>-0.133321</td>\n",
       "      <td>0.024783</td>\n",
       "      <td>0.217362</td>\n",
       "    </tr>\n",
       "    <tr>\n",
       "      <th>age_in_days</th>\n",
       "      <td>0.319190</td>\n",
       "      <td>1.000000</td>\n",
       "      <td>0.833890</td>\n",
       "      <td>0.075775</td>\n",
       "      <td>-0.259863</td>\n",
       "      <td>0.108327</td>\n",
       "      <td>0.313276</td>\n",
       "    </tr>\n",
       "    <tr>\n",
       "      <th>km</th>\n",
       "      <td>0.285495</td>\n",
       "      <td>0.833890</td>\n",
       "      <td>1.000000</td>\n",
       "      <td>0.097539</td>\n",
       "      <td>-0.255746</td>\n",
       "      <td>0.109024</td>\n",
       "      <td>0.303874</td>\n",
       "    </tr>\n",
       "    <tr>\n",
       "      <th>previous_owners</th>\n",
       "      <td>-0.005030</td>\n",
       "      <td>0.075775</td>\n",
       "      <td>0.097539</td>\n",
       "      <td>1.000000</td>\n",
       "      <td>-0.024643</td>\n",
       "      <td>-0.019316</td>\n",
       "      <td>0.084129</td>\n",
       "    </tr>\n",
       "    <tr>\n",
       "      <th>model_lounge</th>\n",
       "      <td>-0.133321</td>\n",
       "      <td>-0.259863</td>\n",
       "      <td>-0.255746</td>\n",
       "      <td>-0.024643</td>\n",
       "      <td>1.000000</td>\n",
       "      <td>-0.864605</td>\n",
       "      <td>-0.382017</td>\n",
       "    </tr>\n",
       "    <tr>\n",
       "      <th>model_pop</th>\n",
       "      <td>0.024783</td>\n",
       "      <td>0.108327</td>\n",
       "      <td>0.109024</td>\n",
       "      <td>-0.019316</td>\n",
       "      <td>-0.864605</td>\n",
       "      <td>1.000000</td>\n",
       "      <td>-0.134050</td>\n",
       "    </tr>\n",
       "    <tr>\n",
       "      <th>model_sport</th>\n",
       "      <td>0.217362</td>\n",
       "      <td>0.313276</td>\n",
       "      <td>0.303874</td>\n",
       "      <td>0.084129</td>\n",
       "      <td>-0.382017</td>\n",
       "      <td>-0.134050</td>\n",
       "      <td>1.000000</td>\n",
       "    </tr>\n",
       "  </tbody>\n",
       "</table>\n",
       "</div>"
      ],
      "text/plain": [
       "                 engine_power  age_in_days        km  previous_owners  \\\n",
       "engine_power         1.000000     0.319190  0.285495        -0.005030   \n",
       "age_in_days          0.319190     1.000000  0.833890         0.075775   \n",
       "km                   0.285495     0.833890  1.000000         0.097539   \n",
       "previous_owners     -0.005030     0.075775  0.097539         1.000000   \n",
       "model_lounge        -0.133321    -0.259863 -0.255746        -0.024643   \n",
       "model_pop            0.024783     0.108327  0.109024        -0.019316   \n",
       "model_sport          0.217362     0.313276  0.303874         0.084129   \n",
       "\n",
       "                 model_lounge  model_pop  model_sport  \n",
       "engine_power        -0.133321   0.024783     0.217362  \n",
       "age_in_days         -0.259863   0.108327     0.313276  \n",
       "km                  -0.255746   0.109024     0.303874  \n",
       "previous_owners     -0.024643  -0.019316     0.084129  \n",
       "model_lounge         1.000000  -0.864605    -0.382017  \n",
       "model_pop           -0.864605   1.000000    -0.134050  \n",
       "model_sport         -0.382017  -0.134050     1.000000  "
      ]
     },
     "execution_count": 26,
     "metadata": {},
     "output_type": "execute_result"
    }
   ],
   "source": [
    "x.corr()"
   ]
  },
  {
   "cell_type": "code",
   "execution_count": 27,
   "metadata": {},
   "outputs": [
    {
     "data": {
      "text/plain": [
       "0    8900\n",
       "1    8800\n",
       "2    4200\n",
       "3    6000\n",
       "4    5700\n",
       "Name: price, dtype: int64"
      ]
     },
     "execution_count": 27,
     "metadata": {},
     "output_type": "execute_result"
    }
   ],
   "source": [
    "y.head(5)"
   ]
  },
  {
   "cell_type": "code",
   "execution_count": 28,
   "metadata": {},
   "outputs": [
    {
     "data": {
      "text/html": [
       "<div>\n",
       "<style scoped>\n",
       "    .dataframe tbody tr th:only-of-type {\n",
       "        vertical-align: middle;\n",
       "    }\n",
       "\n",
       "    .dataframe tbody tr th {\n",
       "        vertical-align: top;\n",
       "    }\n",
       "\n",
       "    .dataframe thead th {\n",
       "        text-align: right;\n",
       "    }\n",
       "</style>\n",
       "<table border=\"1\" class=\"dataframe\">\n",
       "  <thead>\n",
       "    <tr style=\"text-align: right;\">\n",
       "      <th></th>\n",
       "      <th>engine_power</th>\n",
       "      <th>age_in_days</th>\n",
       "      <th>km</th>\n",
       "      <th>previous_owners</th>\n",
       "      <th>model_lounge</th>\n",
       "      <th>model_pop</th>\n",
       "      <th>model_sport</th>\n",
       "    </tr>\n",
       "  </thead>\n",
       "  <tbody>\n",
       "    <tr>\n",
       "      <th>0</th>\n",
       "      <td>51</td>\n",
       "      <td>882</td>\n",
       "      <td>25000</td>\n",
       "      <td>1</td>\n",
       "      <td>1</td>\n",
       "      <td>0</td>\n",
       "      <td>0</td>\n",
       "    </tr>\n",
       "    <tr>\n",
       "      <th>1</th>\n",
       "      <td>51</td>\n",
       "      <td>1186</td>\n",
       "      <td>32500</td>\n",
       "      <td>1</td>\n",
       "      <td>0</td>\n",
       "      <td>1</td>\n",
       "      <td>0</td>\n",
       "    </tr>\n",
       "    <tr>\n",
       "      <th>2</th>\n",
       "      <td>74</td>\n",
       "      <td>4658</td>\n",
       "      <td>142228</td>\n",
       "      <td>1</td>\n",
       "      <td>0</td>\n",
       "      <td>0</td>\n",
       "      <td>1</td>\n",
       "    </tr>\n",
       "    <tr>\n",
       "      <th>3</th>\n",
       "      <td>51</td>\n",
       "      <td>2739</td>\n",
       "      <td>160000</td>\n",
       "      <td>1</td>\n",
       "      <td>1</td>\n",
       "      <td>0</td>\n",
       "      <td>0</td>\n",
       "    </tr>\n",
       "  </tbody>\n",
       "</table>\n",
       "</div>"
      ],
      "text/plain": [
       "   engine_power  age_in_days      km  previous_owners  model_lounge  \\\n",
       "0            51          882   25000                1             1   \n",
       "1            51         1186   32500                1             0   \n",
       "2            74         4658  142228                1             0   \n",
       "3            51         2739  160000                1             1   \n",
       "\n",
       "   model_pop  model_sport  \n",
       "0          0            0  \n",
       "1          1            0  \n",
       "2          0            1  \n",
       "3          0            0  "
      ]
     },
     "execution_count": 28,
     "metadata": {},
     "output_type": "execute_result"
    }
   ],
   "source": [
    "x.head(4)"
   ]
  },
  {
   "cell_type": "code",
   "execution_count": 29,
   "metadata": {},
   "outputs": [],
   "source": [
    "from sklearn.model_selection import train_test_split"
   ]
  },
  {
   "cell_type": "code",
   "execution_count": 30,
   "metadata": {},
   "outputs": [],
   "source": [
    "x_train,x_test,y_train,y_test=train_test_split(x,y,random_state=42,test_size=0.33)"
   ]
  },
  {
   "cell_type": "code",
   "execution_count": 31,
   "metadata": {},
   "outputs": [
    {
     "data": {
      "text/plain": [
       "(1030, 7)"
      ]
     },
     "execution_count": 31,
     "metadata": {},
     "output_type": "execute_result"
    }
   ],
   "source": [
    "x_train.shape"
   ]
  },
  {
   "cell_type": "code",
   "execution_count": 32,
   "metadata": {},
   "outputs": [
    {
     "data": {
      "text/plain": [
       "(508,)"
      ]
     },
     "execution_count": 32,
     "metadata": {},
     "output_type": "execute_result"
    }
   ],
   "source": [
    "y_test.shape"
   ]
  },
  {
   "cell_type": "code",
   "execution_count": 33,
   "metadata": {},
   "outputs": [
    {
     "data": {
      "text/plain": [
       "LinearRegression()"
      ]
     },
     "execution_count": 33,
     "metadata": {},
     "output_type": "execute_result"
    }
   ],
   "source": [
    "from sklearn.linear_model import LinearRegression\n",
    "reg=LinearRegression()\n",
    "reg.fit(x_train,y_train)"
   ]
  },
  {
   "cell_type": "code",
   "execution_count": 34,
   "metadata": {},
   "outputs": [],
   "source": [
    "y_pred=reg.predict(x_test)"
   ]
  },
  {
   "cell_type": "code",
   "execution_count": 35,
   "metadata": {},
   "outputs": [
    {
     "data": {
      "text/plain": [
       "array([ 5867.6503378 ,  7133.70142341,  9866.35776216,  9723.28874535,\n",
       "       10039.59101162,  9654.07582608,  9673.14563045, 10118.70728123,\n",
       "        9903.85952664,  9351.55828437, 10434.34963575,  7732.26255693,\n",
       "        7698.67240131,  6565.95240435,  9662.90103518, 10373.20344286,\n",
       "        9599.94844451,  7699.34400418,  4941.33017994, 10455.2719478 ,\n",
       "       10370.51555682, 10391.60424404,  7529.06622456,  9952.37340054,\n",
       "        7006.13845729,  9000.1780961 ,  4798.36770637,  6953.10376491,\n",
       "        7810.39767825,  9623.80497535,  7333.52158317,  5229.18705519,\n",
       "        5398.21541073,  5157.65652129,  8948.63632836,  5666.62365159,\n",
       "        9822.1231461 ,  8258.46551788,  6279.2040404 ,  8457.38443276,\n",
       "        9773.86444066,  6767.04074749,  9182.99904787, 10210.05195479,\n",
       "        8694.90545226, 10328.43369248,  9069.05761443,  8866.7826029 ,\n",
       "        7058.39787506,  9073.33877162,  9412.68162121, 10293.69451263,\n",
       "       10072.49011135,  6748.5794244 ,  9785.95841801,  9354.09969973,\n",
       "        9507.9444386 , 10443.01608254,  9795.31884316,  7197.84932877,\n",
       "       10108.31707235,  7009.6597206 ,  9853.90699412,  7146.87414965,\n",
       "        6417.69133992,  9996.97382441,  9781.18795953,  8515.83255277,\n",
       "        8456.30006203,  6499.76668237,  7768.57829985,  6832.86406122,\n",
       "        8347.96113362, 10439.02404036,  7356.43463051,  8562.56562053,\n",
       "        9820.78555199, 10035.83571539,  7370.77198022,  9411.45894006,\n",
       "       10352.85155564,  8045.21588007, 10446.80664758,  3736.20118868,\n",
       "       10348.63930496, 10435.96627494,  6167.80169017, 10390.11317804,\n",
       "        6527.69471073,  9116.4755691 , 10484.52829   ,  9335.69889855,\n",
       "        6709.57413543,  3390.72353093, 10106.33753331,  9792.46732008,\n",
       "        6239.49568346,  4996.26346266,  9044.38667681,  9868.09959448,\n",
       "        5484.13199252,  5698.5954821 , 10086.86206874,  8115.81693479,\n",
       "       10392.37800936,  6835.6573351 ,  6657.61744836,  5738.50576764,\n",
       "        8896.80120764,  9952.37340054, 10390.28377419,  9419.10788866,\n",
       "        9082.56591129, 10122.82465116, 10410.00504522, 10151.77663915,\n",
       "        9714.85367238,  9291.92963633, 10346.99073888,  5384.22311343,\n",
       "        9772.85146492,  6069.77107828,  9023.26394782, 10220.56195956,\n",
       "        9238.89392583,  9931.47195375,  8321.42715662,  8377.80491069,\n",
       "        7528.53327408, 10552.64805598, 10465.02437243, 10110.68940664,\n",
       "       10238.17869436,  6841.77264488,  9625.64505547, 10412.59988875,\n",
       "        9653.06224923,  7948.63618724,  9704.82523573,  7971.05970955,\n",
       "       10399.51752022,  9176.43567301,  5803.03205787,  6698.19524313,\n",
       "        8257.83550573, 10452.95284574,  9948.66454584,  9789.65062843,\n",
       "       10582.50828537,  7568.91955482,  6804.97705225,  8065.01292384,\n",
       "       10310.29143419,  8836.34894739,  8390.05091229,  9582.13932508,\n",
       "        9745.34784981, 10045.45021387, 10294.09872915,  7145.15315349,\n",
       "        9727.85493167,  6281.78952194,  7901.36245623,  9387.9203723 ,\n",
       "        5039.55649797,  9351.49777725,  9980.70844784, 10094.79341516,\n",
       "        6359.24321991,  9856.10227211,  9099.07023804,  5234.05388382,\n",
       "        5534.45288323,  4495.02309231, 10199.78432943, 10024.87037067,\n",
       "        5465.58034188,  8520.72057674,  7034.71038647, 10054.65061446,\n",
       "       10191.12067767,  6008.34860428,  9748.18097947,  9669.4333196 ,\n",
       "        9145.3756075 ,  9175.66562699, 10087.86753845,  9825.02990067,\n",
       "        7340.29803785,  5083.8487301 ,  9441.50914802, 10243.05490667,\n",
       "        5556.42300245, 10676.01945733,  6126.99295838,  9845.16661356,\n",
       "        9850.77978959,  7840.83596305,  6552.05146566,  9938.82104889,\n",
       "        8327.79232274,  9119.62204137,  6111.83787367, 10410.00504522,\n",
       "        6360.97695249,  8601.59209793,  8377.80258216,  9803.81343895,\n",
       "        8285.09831762, 10091.75635129, 10003.86694939, 10028.60283146,\n",
       "       10354.61956534,  8552.21002673,  6726.65446676,  9381.22662706,\n",
       "        6520.9999373 , 10352.85155564,  9063.7534579 , 10456.89121831,\n",
       "        9127.72470241,  9952.37340054,  8376.6975881 ,  9220.36267675,\n",
       "       10036.24981328,  8418.65456209,  4717.7579531 , 10076.86950203,\n",
       "       10017.8490121 , 10590.33289679, 10161.75393066,  4927.49556508,\n",
       "        7276.18410037,  9678.26477249,  9764.65653403,  5643.53722047,\n",
       "       10062.84554534,  5163.04602382,  8307.60791348,  7441.80993846,\n",
       "        7868.82460983,  9725.36143983,  8669.20982667, 10447.15719448,\n",
       "        7124.58453563,  9718.32989102,  8059.66615638,  7430.65975056,\n",
       "       10425.57075395, 10364.18738085,  5433.2724385 ,  9102.40298437,\n",
       "        9629.06913727, 10532.3506032 , 10129.42684118,  9149.48843328,\n",
       "        6158.13422239,  9721.03634157, 10419.02236947,  8838.50241314,\n",
       "        8182.78836676, 10012.21373766,  9468.92324529,  9904.31954667,\n",
       "       10475.66003551, 10475.0702782 ,  9609.27020577,  8115.22501265,\n",
       "       10439.02404036, 10363.81936482,  8720.0683498 ,  8274.3579289 ,\n",
       "        6889.7195761 , 10191.45963957,  4819.0674709 ,  8814.11814085,\n",
       "        5737.62378403, 10051.06593609,  8840.87520652, 10054.31165256,\n",
       "        9686.269121  , 10463.56977746, 10133.15815395,  9762.80613855,\n",
       "        9793.03056946,  6796.69068198,  9599.3262671 ,  8488.31539047,\n",
       "        6705.66818403, 10307.58651641, 10045.18332239, 10120.36242166,\n",
       "        5836.93199112,  8772.49782933,  9680.77538859,  5719.87463854,\n",
       "        8398.59735084,  9680.77538859,  4334.81943405, 10015.00600846,\n",
       "        9850.72458719,  7864.73798641, 10072.71245374, 10552.64805598,\n",
       "       10253.47474908,  6861.80736606,  6484.22649656, 10374.62123623,\n",
       "        8426.37409382,  5447.47569851,  9914.20077691,  4687.39013431,\n",
       "        7885.32100747,  5431.00822998,  9911.86294348, 10390.16991322,\n",
       "        9680.84745901,  8844.57815539,  7764.08471024,  4257.54640953,\n",
       "        9882.76503303, 10341.35258769,  5736.4484335 , 10179.87154436,\n",
       "        9501.423448  ,  7997.3181334 ,  5532.33458288,  9894.57834738,\n",
       "       10437.97459358,  6381.35845844,  9591.23555726,  9574.27908517,\n",
       "       10322.30715736,  9501.22785499,  9789.955758  ,  9593.26549752,\n",
       "        6775.82788536,  7915.34831306, 10389.98590521, 10351.58343315,\n",
       "        7381.32686464,  9966.53983093, 10430.87188433, 10554.43156462,\n",
       "       10285.85574963, 10035.88086558,  9526.63034431,  7742.78157141,\n",
       "        9297.64938364, 10051.42272678, 10004.81256571,  9985.84167026,\n",
       "        9374.6573594 ,  9561.57499854,  9754.94184269,  9819.85893758,\n",
       "        8780.31447831,  6255.99008069,  6281.53627686,  8190.88781577,\n",
       "        8588.91394592,  6566.97963218,  6850.70237466,  5511.29438169,\n",
       "        8119.97866315,  9847.74830838,  7775.93862032,  9875.05509733,\n",
       "       10121.29366536,  5791.92464084,  9835.42728501, 10043.91426822,\n",
       "        8027.28015259,  4527.22080416, 10609.02444098,  3808.29240951,\n",
       "        9952.37340054, 10511.20945172,  5746.34019592,  5486.40214756,\n",
       "       10395.91036208,  6788.47519216,  8953.20120295, 10442.24187982,\n",
       "        9455.6934072 ,  9976.26574762,  8528.35753837,  7960.77147517,\n",
       "       10400.05054235,  5359.97362399,  9899.4913613 , 10203.35814213,\n",
       "       10303.33499967,  9507.16596227,  9151.43928526,  9805.06469343,\n",
       "        5661.99787503,  4904.40690461,  4742.8827765 ,  9663.32864144,\n",
       "        6102.95247322,  9870.62050425, 10066.06916341,  5001.24291171,\n",
       "        8029.35471733,  9773.79143856,  5962.75261232, 10401.02638592,\n",
       "        5511.44251977,  9627.19072277, 10106.26833963, 10199.67798189,\n",
       "        9458.07047019,  4890.1778697 ,  5833.90060934,  7022.25799652,\n",
       "       10011.26407146, 10402.02002918,  9945.08219601,  7770.52280413,\n",
       "        8840.08397206,  9916.27565791, 10287.45603992,  9964.3213269 ,\n",
       "        8403.51255128,  9345.81907605,  8521.46225147,  9743.68712672,\n",
       "        9791.34520178,  9779.16293972,  6753.27416058,  7354.16762745,\n",
       "        8760.24542762,  9923.66596418,  9812.92276721, 10466.90125415,\n",
       "        8163.46726237,  6659.46839415,  9987.65677522,  8866.7826029 ,\n",
       "        9952.37340054, 10187.72427693, 10231.39378767, 10091.11325493,\n",
       "        9365.98570732, 10009.10088406,  9141.00566394, 10099.11667176,\n",
       "        7803.77049829,  6009.84398185,  8800.33824151, 10237.60733785,\n",
       "        5609.98366311, 10097.61555355,  9684.99946572,  7644.67379732,\n",
       "        9276.37891542,  7371.5492091 , 10287.98873148, 10067.26428381,\n",
       "       10552.64805598,  9966.72383894, 10068.46126756,  6232.53552963,\n",
       "       10584.55044373,  9965.98687522, 10529.44404458,  9602.67646085,\n",
       "        9665.77720284,  6186.06948587,  8073.87436253, 10345.58323918,\n",
       "        6344.74803956,  7361.62678204, 10058.57116223,  6792.219309  ,\n",
       "        7897.72464823,  5261.45936067,  4540.24137423,  8709.36468047,\n",
       "        6882.0117409 ,  7406.73353952,  6795.61189392,  7047.27998963,\n",
       "        9945.33400083,  8856.93910595,  9378.02074127, 10389.561154  ,\n",
       "       10092.46332921, 10381.52000388,  9723.92466625,  5996.3331428 ,\n",
       "        9786.14866981,  7708.49649098,  5583.48163469,  4932.92788329,\n",
       "        9856.66053994,  9236.22981005, 10092.64052142,  6256.43516278,\n",
       "        8592.63841379, 10341.5365957 ,  5177.96595576, 10032.66513491,\n",
       "        6281.53627686,  9986.327508  ,  8381.51701951, 10371.14255313])"
      ]
     },
     "execution_count": 35,
     "metadata": {},
     "output_type": "execute_result"
    }
   ],
   "source": [
    "y_pred"
   ]
  },
  {
   "cell_type": "code",
   "execution_count": 36,
   "metadata": {},
   "outputs": [],
   "source": [
    "filename='pricemodeldummy1'\n",
    "pickle.dump(reg,open(filename,'wb'))"
   ]
  },
  {
   "cell_type": "code",
   "execution_count": 37,
   "metadata": {},
   "outputs": [
    {
     "data": {
      "text/plain": [
       "<matplotlib.axes._subplots.AxesSubplot at 0x296e13353c8>"
      ]
     },
     "execution_count": 37,
     "metadata": {},
     "output_type": "execute_result"
    },
    {
     "data": {
      "image/png": "[encoded data removed]",
      "text/plain": [
       "<Figure size 432x288 with 1 Axes>"
      ]
     },
     "metadata": {
      "needs_background": "light"
     },
     "output_type": "display_data"
    }
   ],
   "source": [
    "import matplotlib.pyplot as plt\n",
    "#plt.scatter(y_pred,x_test)\n",
    "plt.xlabel('Actual')\n",
    "plt.ylabel('Predicted')\n",
    "sns.regplot(y_test, y_pred, scatter_kws={\"color\": \"blue\"}, line_kws={\"color\": \"red\"}) \n"
   ]
  },
  {
   "cell_type": "code",
   "execution_count": 38,
   "metadata": {},
   "outputs": [],
   "source": [
    "from sklearn.metrics import r2_score"
   ]
  },
  {
   "cell_type": "code",
   "execution_count": 39,
   "metadata": {},
   "outputs": [
    {
     "data": {
      "text/plain": [
       "0.8415526986865394"
      ]
     },
     "execution_count": 39,
     "metadata": {},
     "output_type": "execute_result"
    }
   ],
   "source": [
    "#r2_score is used to evluate the performnace of linear regression model\n",
    "r2_score(y_test,y_pred)"
   ]
  },
  {
   "cell_type": "code",
   "execution_count": 40,
   "metadata": {},
   "outputs": [],
   "source": [
    "from sklearn.metrics import mean_squared_error"
   ]
  },
  {
   "cell_type": "code",
   "execution_count": 41,
   "metadata": {},
   "outputs": [
    {
     "data": {
      "text/plain": [
       "581887.727391353"
      ]
     },
     "execution_count": 41,
     "metadata": {},
     "output_type": "execute_result"
    }
   ],
   "source": [
    "mean_squared_error(y_pred,y_test)"
   ]
  },
  {
   "cell_type": "code",
   "execution_count": 42,
   "metadata": {},
   "outputs": [],
   "source": [
    "results=pd.DataFrame(columns=['Actual','Predicted'])"
   ]
  },
  {
   "cell_type": "code",
   "execution_count": 43,
   "metadata": {},
   "outputs": [],
   "source": [
    "results['Actual']=y_test\n",
    "results['Predicted']=y_pred"
   ]
  },
  {
   "cell_type": "code",
   "execution_count": 49,
   "metadata": {},
   "outputs": [],
   "source": [
    "results=results.reset_index()"
   ]
  },
  {
   "cell_type": "code",
   "execution_count": 50,
   "metadata": {},
   "outputs": [],
   "source": [
    "results['id']=results.index"
   ]
  },
  {
   "cell_type": "code",
   "execution_count": 51,
   "metadata": {},
   "outputs": [
    {
     "data": {
      "text/html": [
       "<div>\n",
       "<style scoped>\n",
       "    .dataframe tbody tr th:only-of-type {\n",
       "        vertical-align: middle;\n",
       "    }\n",
       "\n",
       "    .dataframe tbody tr th {\n",
       "        vertical-align: top;\n",
       "    }\n",
       "\n",
       "    .dataframe thead th {\n",
       "        text-align: right;\n",
       "    }\n",
       "</style>\n",
       "<table border=\"1\" class=\"dataframe\">\n",
       "  <thead>\n",
       "    <tr style=\"text-align: right;\">\n",
       "      <th></th>\n",
       "      <th>index</th>\n",
       "      <th>Actual</th>\n",
       "      <th>Predicted</th>\n",
       "      <th>id</th>\n",
       "    </tr>\n",
       "  </thead>\n",
       "  <tbody>\n",
       "    <tr>\n",
       "      <th>0</th>\n",
       "      <td>481</td>\n",
       "      <td>7900</td>\n",
       "      <td>5867.650338</td>\n",
       "      <td>0</td>\n",
       "    </tr>\n",
       "    <tr>\n",
       "      <th>1</th>\n",
       "      <td>76</td>\n",
       "      <td>7900</td>\n",
       "      <td>7133.701423</td>\n",
       "      <td>1</td>\n",
       "    </tr>\n",
       "    <tr>\n",
       "      <th>2</th>\n",
       "      <td>1502</td>\n",
       "      <td>9400</td>\n",
       "      <td>9866.357762</td>\n",
       "      <td>2</td>\n",
       "    </tr>\n",
       "    <tr>\n",
       "      <th>3</th>\n",
       "      <td>669</td>\n",
       "      <td>8500</td>\n",
       "      <td>9723.288745</td>\n",
       "      <td>3</td>\n",
       "    </tr>\n",
       "    <tr>\n",
       "      <th>4</th>\n",
       "      <td>1409</td>\n",
       "      <td>9700</td>\n",
       "      <td>10039.591012</td>\n",
       "      <td>4</td>\n",
       "    </tr>\n",
       "  </tbody>\n",
       "</table>\n",
       "</div>"
      ],
      "text/plain": [
       "   index  Actual     Predicted  id\n",
       "0    481    7900   5867.650338   0\n",
       "1     76    7900   7133.701423   1\n",
       "2   1502    9400   9866.357762   2\n",
       "3    669    8500   9723.288745   3\n",
       "4   1409    9700  10039.591012   4"
      ]
     },
     "execution_count": 51,
     "metadata": {},
     "output_type": "execute_result"
    }
   ],
   "source": [
    "results.head(5)"
   ]
  },
  {
   "cell_type": "code",
   "execution_count": 52,
   "metadata": {},
   "outputs": [],
   "source": [
    "import matplotlib.pyplot as plt"
   ]
  },
  {
   "cell_type": "code",
   "execution_count": 53,
   "metadata": {},
   "outputs": [
    {
     "data": {
      "text/plain": [
       "[]"
      ]
     },
     "execution_count": 53,
     "metadata": {},
     "output_type": "execute_result"
    },
    {
     "data": {
      "image/png": "[encoded data removed]",
      "text/plain": [
       "<Figure size 432x288 with 1 Axes>"
      ]
     },
     "metadata": {
      "needs_background": "light"
     },
     "output_type": "display_data"
    }
   ],
   "source": [
    "sns.lineplot(x='id',y='Actual',data=results.head(50))\n",
    "sns.lineplot(x='id',y='Predicted',data=results.head(50))\n",
    "plt.plot()"
   ]
  },
  {
   "cell_type": "code",
   "execution_count": 54,
   "metadata": {},
   "outputs": [
    {
     "data": {
      "text/plain": [
       "[]"
      ]
     },
     "execution_count": 54,
     "metadata": {},
     "output_type": "execute_result"
    },
    {
     "data": {
      "image/png": "[encoded data removed]",
      "text/plain": [
       "<Figure size 432x288 with 1 Axes>"
      ]
     },
     "metadata": {
      "needs_background": "light"
     },
     "output_type": "display_data"
    }
   ],
   "source": [
    "sns.lineplot(x='id',y='Actual',data=results.tail(50))\n",
    "sns.lineplot(x='id',y='Predicted',data=results.tail(50))\n",
    "plt.plot()"
   ]
  },
  {
   "cell_type": "code",
   "execution_count": 55,
   "metadata": {},
   "outputs": [
    {
     "data": {
      "text/plain": [
       "Index(['ID', 'model', 'engine_power', 'age_in_days', 'km', 'previous_owners',\n",
       "       'lat', 'lon', 'price'],\n",
       "      dtype='object')"
      ]
     },
     "execution_count": 55,
     "metadata": {},
     "output_type": "execute_result"
    }
   ],
   "source": [
    "data.columns"
   ]
  },
  {
   "cell_type": "code",
   "execution_count": 56,
   "metadata": {},
   "outputs": [
    {
     "data": {
      "text/html": [
       "<div>\n",
       "<style scoped>\n",
       "    .dataframe tbody tr th:only-of-type {\n",
       "        vertical-align: middle;\n",
       "    }\n",
       "\n",
       "    .dataframe tbody tr th {\n",
       "        vertical-align: top;\n",
       "    }\n",
       "\n",
       "    .dataframe thead th {\n",
       "        text-align: right;\n",
       "    }\n",
       "</style>\n",
       "<table border=\"1\" class=\"dataframe\">\n",
       "  <thead>\n",
       "    <tr style=\"text-align: right;\">\n",
       "      <th></th>\n",
       "      <th>engine_power</th>\n",
       "      <th>age_in_days</th>\n",
       "      <th>km</th>\n",
       "      <th>previous_owners</th>\n",
       "      <th>model_lounge</th>\n",
       "      <th>model_pop</th>\n",
       "      <th>model_sport</th>\n",
       "    </tr>\n",
       "  </thead>\n",
       "  <tbody>\n",
       "    <tr>\n",
       "      <th>481</th>\n",
       "      <td>51</td>\n",
       "      <td>3197</td>\n",
       "      <td>120000</td>\n",
       "      <td>2</td>\n",
       "      <td>0</td>\n",
       "      <td>1</td>\n",
       "      <td>0</td>\n",
       "    </tr>\n",
       "    <tr>\n",
       "      <th>76</th>\n",
       "      <td>62</td>\n",
       "      <td>2101</td>\n",
       "      <td>103000</td>\n",
       "      <td>1</td>\n",
       "      <td>0</td>\n",
       "      <td>1</td>\n",
       "      <td>0</td>\n",
       "    </tr>\n",
       "    <tr>\n",
       "      <th>1502</th>\n",
       "      <td>51</td>\n",
       "      <td>670</td>\n",
       "      <td>32473</td>\n",
       "      <td>1</td>\n",
       "      <td>1</td>\n",
       "      <td>0</td>\n",
       "      <td>0</td>\n",
       "    </tr>\n",
       "  </tbody>\n",
       "</table>\n",
       "</div>"
      ],
      "text/plain": [
       "      engine_power  age_in_days      km  previous_owners  model_lounge  \\\n",
       "481             51         3197  120000                2             0   \n",
       "76              62         2101  103000                1             0   \n",
       "1502            51          670   32473                1             1   \n",
       "\n",
       "      model_pop  model_sport  \n",
       "481           1            0  \n",
       "76            1            0  \n",
       "1502          0            0  "
      ]
     },
     "execution_count": 56,
     "metadata": {},
     "output_type": "execute_result"
    }
   ],
   "source": [
    "x_test.head(3)"
   ]
  },
  {
   "cell_type": "code",
   "execution_count": 57,
   "metadata": {},
   "outputs": [],
   "source": [
    "new=[[62,2000,120000,1,1,0,0],[62,2500,125000,1,1,0,0],[62,3000,130000,1,1,0,0]]"
   ]
  },
  {
   "cell_type": "code",
   "execution_count": 58,
   "metadata": {},
   "outputs": [],
   "source": [
    "real=reg.predict(new)"
   ]
  },
  {
   "cell_type": "code",
   "execution_count": 59,
   "metadata": {},
   "outputs": [
    {
     "data": {
      "text/plain": [
       "array([7235.86466187, 6717.98617178, 6200.10768169])"
      ]
     },
     "execution_count": 59,
     "metadata": {},
     "output_type": "execute_result"
    }
   ],
   "source": [
    "real"
   ]
  },
  {
   "cell_type": "code",
   "execution_count": 62,
   "metadata": {},
   "outputs": [],
   "source": [
    "#for predicting single value new can use below 2 ways\n",
    "#new=[[62,2000,120000,1,1,0,0]]\n",
    "new=[62,4000,120000,1,1,0,0]"
   ]
  },
  {
   "cell_type": "code",
   "execution_count": 63,
   "metadata": {},
   "outputs": [],
   "source": [
    "real=reg.predict([new])"
   ]
  },
  {
   "cell_type": "code",
   "execution_count": 64,
   "metadata": {},
   "outputs": [
    {
     "data": {
      "text/plain": [
       "array([5532.36672512])"
      ]
     },
     "execution_count": 64,
     "metadata": {},
     "output_type": "execute_result"
    }
   ],
   "source": [
    "real"
   ]
  },
  {
   "cell_type": "code",
   "execution_count": 65,
   "metadata": {},
   "outputs": [
    {
     "data": {
      "image/png": "[encoded data removed]",
      "text/plain": [
       "<Figure size 432x288 with 1 Axes>"
      ]
     },
     "metadata": {
      "needs_background": "light"
     },
     "output_type": "display_data"
    }
   ],
   "source": [
    "fig = plt.figure()\n",
    "sns.distplot((y_test-y_pred),bins=50)\n",
    "fig.suptitle('Error Terms', fontsize=20)                  # Plot heading \n",
    "plt.xlabel('y_test-y_pred', fontsize=18)                  # X-label\n",
    "plt.ylabel('Index', fontsize=16)                          # Y-label\n",
    "plt.show()"
   ]
  },
  {
   "cell_type": "code",
   "execution_count": 66,
   "metadata": {},
   "outputs": [
    {
     "data": {
      "text/plain": [
       "Lasso()"
      ]
     },
     "execution_count": 66,
     "metadata": {},
     "output_type": "execute_result"
    }
   ],
   "source": [
    "from sklearn.linear_model import Lasso\n",
    "lasso=Lasso()\n",
    "lasso.fit(x_train,y_train)"
   ]
  },
  {
   "cell_type": "code",
   "execution_count": 67,
   "metadata": {},
   "outputs": [
    {
     "data": {
      "text/plain": [
       "0.8417430453603184"
      ]
     },
     "execution_count": 67,
     "metadata": {},
     "output_type": "execute_result"
    }
   ],
   "source": [
    "y_pred_lasso=lasso.predict(x_test)\n",
    "r2_score(y_test,y_pred_lasso)"
   ]
  },
  {
   "cell_type": "code",
   "execution_count": null,
   "metadata": {},
   "outputs": [],
   "source": []
  }
 ],
 "metadata": {
  "kernelspec": {
   "display_name": "Python 3",
   "language": "python",
   "name": "python3"
  },
  "language_info": {
   "codemirror_mode": {
    "name": "ipython",
    "version": 3
   },
   "file_extension": ".py",
   "mimetype": "text/x-python",
   "name": "python",
   "nbconvert_exporter": "python",
   "pygments_lexer": "ipython3",
   "version": "3.7.3"
  }
 },
 "nbformat": 4,
 "nbformat_minor": 2
}
